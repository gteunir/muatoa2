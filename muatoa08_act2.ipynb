{
 "cells": [
  {
   "cell_type": "code",
   "execution_count": null,
   "id": "7db5cc2d-ddd6-4878-b26b-92b7251b6ceb",
   "metadata": {},
   "outputs": [],
   "source": [
    "# <-----------------> rellena con código "
   ]
  },
  {
   "cell_type": "code",
   "execution_count": null,
   "id": "b121218e-bef0-4b4d-b943-1dd2ffe54fd8",
   "metadata": {},
   "outputs": [],
   "source": [
    "DOWNLOAD_DATASETS=False\n",
    "if DOWNLOAD_DATASETS==True:\n",
    "    !gammapy download datasets\n",
    "import os\n",
    "os.environ[\"GAMMAPY_DATA\"] = \"gammapy-datasets/1.0.1\""
   ]
  },
  {
   "cell_type": "code",
   "execution_count": null,
   "id": "f86a89e2-2c24-4daa-8f0e-0c00ceaaca6a",
   "metadata": {},
   "outputs": [],
   "source": [
    "from gammapy.catalog import SourceCatalog3FHL, SourceCatalogHGPS\n"
   ]
  },
  {
   "cell_type": "code",
   "execution_count": null,
   "id": "25c7c425-7f61-4220-9ed0-76794bd3ca24",
   "metadata": {},
   "outputs": [],
   "source": [
    "fermi_cat = SourceCatalog3FHL()\n",
    "# <-----------------> rellenar con código "
   ]
  },
  {
   "cell_type": "markdown",
   "id": "aabff700-be37-4ae9-a2e9-7eb78e9577cd",
   "metadata": {},
   "source": [
    "# Información"
   ]
  },
  {
   "cell_type": "code",
   "execution_count": null,
   "id": "922e2cb5-d633-4feb-9511-af75464ac28d",
   "metadata": {},
   "outputs": [],
   "source": [
    "# Descripción de los catálogos\n",
    "print(fermi_cat.description)\n",
    "# <-----------------> rellenar con código "
   ]
  },
  {
   "cell_type": "code",
   "execution_count": null,
   "id": "cf44b9e0-4282-46bb-9bbf-a66cab382b08",
   "metadata": {},
   "outputs": [],
   "source": [
    "# Observa las información que hay guardada en cada catálogo.\n",
    "# Una forma para verlo puede ser llamando al atributo table del objeto que representa un catálogo.\n",
    "# Ejemplo: catalogo.table -> muestra la tabla con todos los objetos\n",
    "# Ejemplo: catalogo.table[:5] -> muestra una tabla con las primeras 5 filas\n",
    "# Ejemplo: lista_indices = [1,3,5,7] -> muestra una tabla con las filas 1,3,5 y 7"
   ]
  },
  {
   "cell_type": "markdown",
   "id": "ce72d8af-4b01-4173-ae75-e0cec9f2ca83",
   "metadata": {},
   "source": [
    "# XMATCH\n",
    "Las posiciones en los catálogos se obtienen llamando al atributo 'positions'"
   ]
  },
  {
   "cell_type": "code",
   "execution_count": null,
   "id": "25982dfb-ab2e-4420-ac39-3b4f9b419dba",
   "metadata": {},
   "outputs": [],
   "source": [
    "# Obtención de las posiciones.\n",
    "## Crea dos variables llamadas fermi_pos y hess_pos que sean las coordenadas de los repectivos catálogos\n",
    "\n",
    "# <-----------------> rellenar con código \n",
    "# <-----------------> rellenar con código "
   ]
  },
  {
   "cell_type": "code",
   "execution_count": null,
   "id": "df8e9536-2fa5-4327-a7ce-cd793002cc86",
   "metadata": {},
   "outputs": [],
   "source": [
    "def naive_xmatch (x,y,min_distance=0.1*units.deg):\n",
    "    \"\"\"\n",
    "    Args:\n",
    "        x: lista con posiciones\n",
    "        y: lista con posiciones\n",
    "    Returns:\n",
    "        xindex: lista de índices\n",
    "        yindex: lista de índices\n",
    "        dists: lista de distancias\n",
    "        \n",
    "    Devuelve los índeces de x e y que están a una distancia menor que 'min_distance' además de \n",
    "    la distancia de separación. La devolución se hace en orden, esto es, el primer índice de la lista\n",
    "    xindex está a una distancia menor que min_distance del primero de yindex y, éstos, están a una distancia\n",
    "    que corresponde al primer elemento de la lista dists\n",
    "    \"\"\"\n",
    "    xindex = []\n",
    "    yindex = []\n",
    "    dists = []\n",
    "    for i in range(len(x)):\n",
    "        d = x[i].separation(y)\n",
    "        amin = d.argmin()\n",
    "        dmin = d[amin]\n",
    "        if dmin < min_distance:\n",
    "            xindex.append(i)\n",
    "            yindex.append(amin)\n",
    "            dists.append(dmin)\n",
    "    return xindex,yindex,dists"
   ]
  },
  {
   "cell_type": "code",
   "execution_count": null,
   "id": "86ab34ff-6653-4538-9301-c9bdc519149c",
   "metadata": {},
   "outputs": [],
   "source": [
    "# Rellena la siguiente celda para obtener los índices que corresponden a los mismos objetos en cada catálogo\n",
    "# <-----------------> rellenar con código "
   ]
  },
  {
   "cell_type": "code",
   "execution_count": null,
   "id": "330d153b-b160-4133-a7c4-34c5421a3954",
   "metadata": {},
   "outputs": [],
   "source": [
    "# Comprueba si el emparejamiento tienen sentido mirando las columnas de los catálogos\n",
    "# <-----------------> rellenar con código "
   ]
  },
  {
   "cell_type": "markdown",
   "id": "6a4b2a7b-ff71-46f8-ae20-8b53d0dff7aa",
   "metadata": {},
   "source": [
    "# Estudio de objetos y ajustes\n",
    "\n",
    "En este punto hay que ver entro los objetos que están en ambos catálogos y que se han unido en el \n",
    "xmatch anterior, de qué tipo son y buscar información sobre ellos. No hay que hacerlo para todosm pero, al menos, para tres objetos que sean de tipos distintos\n",
    "\n",
    "Después hay que realizar distintos ajustes: uno para los datos de Fermi, otro para los de Hess y otro para ambos a la vez."
   ]
  },
  {
   "cell_type": "markdown",
   "id": "d15c7ebc-7d7a-40a2-83c0-050e561103e2",
   "metadata": {},
   "source": [
    "## Ejemplo de ajuste a los datos de Fermi\n",
    "\n",
    "Supógase que se ha elegido el objeto 35 del catálogo de Fermi que corresponde con el objeto 53 del de H.E.S.S (esto se ha elegido de forma aleatoria, probablemente no coinciden)"
   ]
  },
  {
   "cell_type": "markdown",
   "id": "c5bc23de-f3ce-4cd5-b1b3-28c64fb2e6e9",
   "metadata": {},
   "source": [
    "### Construcción del dataset\n",
    "```\n",
    "fds = FluxPointsDataset(data=fermi_cat[35].flux_points,\n",
    "                        name=fermi_cat[35].name)\n",
    "hds = FluxPointsDataset(data=hess_cat[hess_idx_matches[53]].flux_points,\n",
    "                        name=hess_cat[hess_idx_matches[53]].name)\n",
    "joint_ds = Datasets([fds,hds])\n",
    "```"
   ]
  },
  {
   "cell_type": "markdown",
   "id": "ea07f703-8e11-4eee-b6cf-5d301c650c5f",
   "metadata": {},
   "source": [
    "### Gráfica con los datos\n",
    "```\n",
    "fig = plt.figure()\n",
    "ax = fig.add_subplot(111)\n",
    "plot_kwargs = {\"ax\":ax,\"sed_type\":\"e2dnde\"}\n",
    "ax.yaxis.set_units(units.Unit(\"TeV cm-2 s-1\"))\n",
    "fds.data.plot(label=fds.name,**plot_kwargs)\n",
    "hds.data.plot(label=hds.name,**plot_kwargs)\n",
    "ebounds = [10,7e4]*units.GeV\n",
    "ax.set_xlim(ebounds)\n",
    "ax.legend()\n",
    "```"
   ]
  },
  {
   "cell_type": "markdown",
   "id": "05ec41f2-bc7f-4873-973d-797e2a1a38d1",
   "metadata": {},
   "source": [
    "![](graf_test_multiwave.png)"
   ]
  },
  {
   "cell_type": "markdown",
   "id": "731ea42d-3078-4f1d-bc6e-6495b2a83732",
   "metadata": {},
   "source": [
    "### Ajuste del conjunto de datos\n",
    "```\n",
    "spectral_model = gmodels.PowerLawSpectralModel(amplitude=\"1e-12 cm-2 s-1 TeV-1\",\n",
    "                                               reference=\"100 GeV\")\n",
    "sky_model = gmodels.SkyModel(spectral_model=spectral_model,\n",
    "                             name=str(spectral_model).split()[0])\n",
    "joint_ds.models = sky_model\n",
    "fitter = Fit(backend=\"minuit\")\n",
    "fitter.run(datasets=joint_ds)\n",
    "```"
   ]
  },
  {
   "cell_type": "markdown",
   "id": "a5c693c4-d591-4503-91e8-37cc2d019bdc",
   "metadata": {},
   "source": [
    "Mostrar los valores ajustados del modelo\n",
    "```\n",
    "sky_model.spectral_model.parameters.to_table()[[\"name\",\"value\",\"error\"]]\n",
    "```"
   ]
  },
  {
   "cell_type": "markdown",
   "id": "0b3d03a2-3f07-408b-92cd-034accad9e01",
   "metadata": {},
   "source": [
    "### Grárfica con datos y ajuste\n",
    "```\n",
    "fig = plt.figure()\n",
    "ax = fig.add_subplot(111)\n",
    "plot_kwargs = {\"ax\":ax,\"sed_type\":\"e2dnde\"}\n",
    "ax.yaxis.set_units(units.Unit(\"TeV cm-2 s-1\"))\n",
    "fds.data.plot(label=fds.name,**plot_kwargs)\n",
    "hds.data.plot(label=hds.name,**plot_kwargs)\n",
    "ebounds = [10,7e4]*units.GeV\n",
    "sky_model.spectral_model.plot(ebounds,**plot_kwargs,\n",
    "                              label=sky_model.name,\n",
    "                             color=\"black\")\n",
    "sky_model.spectral_model.plot_error(ebounds,**plot_kwargs,\n",
    "                                    color=\"gray\")\n",
    "ax.set_xlim(ebounds)\n",
    "ax.legend()\n",
    "```"
   ]
  },
  {
   "cell_type": "markdown",
   "id": "45d7d231-447b-4c4a-9dbb-b2010341a0f4",
   "metadata": {},
   "source": [
    "![](graf_test_multiwave_fit.png)"
   ]
  },
  {
   "cell_type": "markdown",
   "id": "4a539bfc-3e4f-4204-abfa-5d86bc29cb47",
   "metadata": {},
   "source": [
    "### Cómo valorar el ajuste\n",
    "\n",
    "Las formas de valorar la bondad de un ajuste suelen basarse en los residuos.\n",
    "Los residuos se calculan usando los valores reales y los predichos.\n",
    "\n",
    "Si joint_ds es un dataset que contiene (datos de Fermi, datos de HESS), entonces:\n",
    "\n",
    "```\n",
    "y_fermi_true = joint_ds[0].data.to_table(\"dnde\")[\"dnde\"].quantity\n",
    "y_hess_true = joint_ds[1].data.to_table(\"dnde\")[\"dnde\"].quantity\n",
    "y_fermi_pred = joint_ds[0].flux_pred()\n",
    "y_hess_pred = joint_ds[1].flux_pred()\n",
    "\n",
    "res_sum = (abs(y_fermi_pred-y_fermi_true)).sum() + (abs(y_hess_pred-y_hess_true)).sum()\n",
    "```"
   ]
  },
  {
   "cell_type": "code",
   "execution_count": null,
   "id": "97a98607-1846-4ae1-893c-374a115d5a0d",
   "metadata": {},
   "outputs": [],
   "source": [
    "# <-----------------> rellenar con código, tantas celdas como se necesiten para realizar el análisis"
   ]
  }
 ],
 "metadata": {
  "kernelspec": {
   "display_name": "Python 3 (ipykernel)",
   "language": "python",
   "name": "python3"
  },
  "language_info": {
   "codemirror_mode": {
    "name": "ipython",
    "version": 3
   },
   "file_extension": ".py",
   "mimetype": "text/x-python",
   "name": "python",
   "nbconvert_exporter": "python",
   "pygments_lexer": "ipython3",
   "version": "3.9.16"
  }
 },
 "nbformat": 4,
 "nbformat_minor": 5
}
